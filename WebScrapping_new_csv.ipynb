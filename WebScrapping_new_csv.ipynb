{
  "nbformat": 4,
  "nbformat_minor": 0,
  "metadata": {
    "colab": {
      "name": "WebScrapping_new_csv.ipynb",
      "provenance": []
    },
    "kernelspec": {
      "name": "python3",
      "display_name": "Python 3"
    },
    "language_info": {
      "name": "python"
    }
  },
  "cells": [
    {
      "cell_type": "code",
      "metadata": {
        "id": "I0Nw-GDV6WNE"
      },
      "source": [
        "# Code from the channel 'computer science' on Youtube\n",
        "\n",
        "from bs4 import BeautifulSoup\n",
        "import pandas as pd\n",
        "import requests\n",
        "import urllib.request\n",
        "import time"
      ],
      "execution_count": 1,
      "outputs": []
    },
    {
      "cell_type": "code",
      "metadata": {
        "id": "nABXTIVb6pRc"
      },
      "source": [
        "authors = []\n",
        "dates = []\n",
        "statements = []\n",
        "sources = []\n",
        "targets = []"
      ],
      "execution_count": 2,
      "outputs": []
    },
    {
      "cell_type": "code",
      "metadata": {
        "id": "em-NuAWN6vYS"
      },
      "source": [
        "def scrape_website(page_number):\n",
        "  page_num = str(page_number)\n",
        "  URL = 'https://www.politifact.com/factchecks/list/?page='+page_num\n",
        "  webpage = requests.get(URL)\n",
        "  soup = BeautifulSoup(webpage.text, 'html.parser')\n",
        "  statement_footer = soup.find_all ('footer' , attrs={'class' : 'm-statement__footer'})\n",
        "  statement_quote = soup.find_all ('div' , attrs={'class' : 'm-statement__quote'})\n",
        "  statement_meta = soup.find_all ('div' , attrs={'class' : 'm-statement__meta'})\n",
        "  target = soup.find_all ('div' , attrs={'class' : 'm-statement__meter'})\n",
        "\n",
        "  for i in statement_footer:\n",
        "    link1 = i.text.strip()\n",
        "    name_and_date= link1.split()\n",
        "    first_name = name_and_date[1]\n",
        "    last_name = name_and_date[2]\n",
        "    full_name = first_name + ' ' + last_name\n",
        "    month = name_and_date[4]\n",
        "    day = name_and_date[5]\n",
        "    year = name_and_date[6]\n",
        "    date = month+' '+day+' '+year\n",
        "    dates.append(date)\n",
        "    authors.append(full_name)   \n",
        "\n",
        "  for i in statement_quote:\n",
        "    link2 = i.find_all('a')\n",
        "    statement_text = link2[0].text.strip()\n",
        "    statements.append(statement_text)\n",
        "\n",
        "  for i in statement_meta:\n",
        "    link3 = i.find_all('a')\n",
        "    source_text = link3[0].text.strip()\n",
        "    sources.append(source_text)\n",
        "\n",
        "  for i in target:\n",
        "    link4 = i.find('div' , attrs={'class' : 'c-image'}).find('img').get('alt')\n",
        "    targets.append(link4)"
      ],
      "execution_count": 3,
      "outputs": []
    },
    {
      "cell_type": "code",
      "metadata": {
        "id": "fzTLxjWA6wpb"
      },
      "source": [
        "n = 50\n",
        "for i in range(1, n):\n",
        "  scrape_website(i)"
      ],
      "execution_count": 13,
      "outputs": []
    },
    {
      "cell_type": "code",
      "metadata": {
        "id": "B3XXyZEG603J"
      },
      "source": [
        "data = pd.DataFrame(columns = ['author','statement','source','date','target'])\n",
        "data['author']= authors\n",
        "data['statement']= statements\n",
        "data['source']= sources\n",
        "data['date']= dates\n",
        "data['target']= targets"
      ],
      "execution_count": 14,
      "outputs": []
    },
    {
      "cell_type": "code",
      "metadata": {
        "colab": {
          "base_uri": "https://localhost:8080/",
          "height": 202
        },
        "id": "9OP3e4lA69R5",
        "outputId": "0edee4bb-8802-4a78-b7f6-9e9508dfc58f"
      },
      "source": [
        "data.head()"
      ],
      "execution_count": 15,
      "outputs": [
        {
          "output_type": "execute_result",
          "data": {
            "text/html": [
              "<div>\n",
              "<style scoped>\n",
              "    .dataframe tbody tr th:only-of-type {\n",
              "        vertical-align: middle;\n",
              "    }\n",
              "\n",
              "    .dataframe tbody tr th {\n",
              "        vertical-align: top;\n",
              "    }\n",
              "\n",
              "    .dataframe thead th {\n",
              "        text-align: right;\n",
              "    }\n",
              "</style>\n",
              "<table border=\"1\" class=\"dataframe\">\n",
              "  <thead>\n",
              "    <tr style=\"text-align: right;\">\n",
              "      <th></th>\n",
              "      <th>author</th>\n",
              "      <th>statement</th>\n",
              "      <th>source</th>\n",
              "      <th>date</th>\n",
              "      <th>target</th>\n",
              "    </tr>\n",
              "  </thead>\n",
              "  <tbody>\n",
              "    <tr>\n",
              "      <th>0</th>\n",
              "      <td>Andy Nguyen</td>\n",
              "      <td>\"Ivermectin sterilizes the majority (85%) of t...</td>\n",
              "      <td>Facebook posts</td>\n",
              "      <td>September 9, 2021</td>\n",
              "      <td>false</td>\n",
              "    </tr>\n",
              "    <tr>\n",
              "      <th>1</th>\n",
              "      <td>Gabrielle Settles</td>\n",
              "      <td>Says Nancy Pelosi on Aug. 31 blocked members o...</td>\n",
              "      <td>Facebook posts</td>\n",
              "      <td>September 9, 2021</td>\n",
              "      <td>barely-true</td>\n",
              "    </tr>\n",
              "    <tr>\n",
              "      <th>2</th>\n",
              "      <td>Jon Greenberg</td>\n",
              "      <td>“The frequency of hurricanes making landfall i...</td>\n",
              "      <td>Bjorn Lomborg</td>\n",
              "      <td>September 9, 2021</td>\n",
              "      <td>half-true</td>\n",
              "    </tr>\n",
              "    <tr>\n",
              "      <th>3</th>\n",
              "      <td>Tom Kertscher</td>\n",
              "      <td>“President Putin bans mandatory vaccinations i...</td>\n",
              "      <td>Instagram posts</td>\n",
              "      <td>September 9, 2021</td>\n",
              "      <td>false</td>\n",
              "    </tr>\n",
              "    <tr>\n",
              "      <th>4</th>\n",
              "      <td>Amy Sherman</td>\n",
              "      <td>The Texas abortion law “provides at least six ...</td>\n",
              "      <td>Greg Abbott</td>\n",
              "      <td>September 9, 2021</td>\n",
              "      <td>false</td>\n",
              "    </tr>\n",
              "  </tbody>\n",
              "</table>\n",
              "</div>"
            ],
            "text/plain": [
              "              author  ...       target\n",
              "0        Andy Nguyen  ...        false\n",
              "1  Gabrielle Settles  ...  barely-true\n",
              "2      Jon Greenberg  ...    half-true\n",
              "3      Tom Kertscher  ...        false\n",
              "4        Amy Sherman  ...        false\n",
              "\n",
              "[5 rows x 5 columns]"
            ]
          },
          "metadata": {},
          "execution_count": 15
        }
      ]
    },
    {
      "cell_type": "code",
      "metadata": {
        "colab": {
          "base_uri": "https://localhost:8080/"
        },
        "id": "TEEwSFJc7OtY",
        "outputId": "d0e6e24c-7ac4-49ca-eaca-cd99a786da66"
      },
      "source": [
        "data.shape"
      ],
      "execution_count": 16,
      "outputs": [
        {
          "output_type": "execute_result",
          "data": {
            "text/plain": [
              "(1620, 5)"
            ]
          },
          "metadata": {},
          "execution_count": 16
        }
      ]
    },
    {
      "cell_type": "code",
      "metadata": {
        "id": "CNERBGFg7s4v"
      },
      "source": [
        "true = ['mostly-true', 'true']\n",
        "\n",
        "def  getBinaryNumTarget(text):\n",
        "     if text in true  :\n",
        "       return 0\n",
        "     else:\n",
        "       return 1"
      ],
      "execution_count": 25,
      "outputs": []
    },
    {
      "cell_type": "code",
      "metadata": {
        "id": "lHQyhT4w8ReF"
      },
      "source": [
        "data['BinaryNumTarget']= data['target'].apply(getBinaryNumTarget)\n"
      ],
      "execution_count": 26,
      "outputs": []
    },
    {
      "cell_type": "code",
      "metadata": {
        "colab": {
          "base_uri": "https://localhost:8080/",
          "height": 662
        },
        "id": "O2ikoI-y8aed",
        "outputId": "ea2a74e0-dce7-41e9-c2bd-dca7a7c4916c"
      },
      "source": [
        "data.head(20)"
      ],
      "execution_count": 27,
      "outputs": [
        {
          "output_type": "execute_result",
          "data": {
            "text/html": [
              "<div>\n",
              "<style scoped>\n",
              "    .dataframe tbody tr th:only-of-type {\n",
              "        vertical-align: middle;\n",
              "    }\n",
              "\n",
              "    .dataframe tbody tr th {\n",
              "        vertical-align: top;\n",
              "    }\n",
              "\n",
              "    .dataframe thead th {\n",
              "        text-align: right;\n",
              "    }\n",
              "</style>\n",
              "<table border=\"1\" class=\"dataframe\">\n",
              "  <thead>\n",
              "    <tr style=\"text-align: right;\">\n",
              "      <th></th>\n",
              "      <th>author</th>\n",
              "      <th>statement</th>\n",
              "      <th>source</th>\n",
              "      <th>date</th>\n",
              "      <th>target</th>\n",
              "      <th>BinaryNumTarget</th>\n",
              "    </tr>\n",
              "  </thead>\n",
              "  <tbody>\n",
              "    <tr>\n",
              "      <th>0</th>\n",
              "      <td>Andy Nguyen</td>\n",
              "      <td>\"Ivermectin sterilizes the majority (85%) of t...</td>\n",
              "      <td>Facebook posts</td>\n",
              "      <td>September 9, 2021</td>\n",
              "      <td>false</td>\n",
              "      <td>1</td>\n",
              "    </tr>\n",
              "    <tr>\n",
              "      <th>1</th>\n",
              "      <td>Gabrielle Settles</td>\n",
              "      <td>Says Nancy Pelosi on Aug. 31 blocked members o...</td>\n",
              "      <td>Facebook posts</td>\n",
              "      <td>September 9, 2021</td>\n",
              "      <td>barely-true</td>\n",
              "      <td>1</td>\n",
              "    </tr>\n",
              "    <tr>\n",
              "      <th>2</th>\n",
              "      <td>Jon Greenberg</td>\n",
              "      <td>“The frequency of hurricanes making landfall i...</td>\n",
              "      <td>Bjorn Lomborg</td>\n",
              "      <td>September 9, 2021</td>\n",
              "      <td>half-true</td>\n",
              "      <td>1</td>\n",
              "    </tr>\n",
              "    <tr>\n",
              "      <th>3</th>\n",
              "      <td>Tom Kertscher</td>\n",
              "      <td>“President Putin bans mandatory vaccinations i...</td>\n",
              "      <td>Instagram posts</td>\n",
              "      <td>September 9, 2021</td>\n",
              "      <td>false</td>\n",
              "      <td>1</td>\n",
              "    </tr>\n",
              "    <tr>\n",
              "      <th>4</th>\n",
              "      <td>Amy Sherman</td>\n",
              "      <td>The Texas abortion law “provides at least six ...</td>\n",
              "      <td>Greg Abbott</td>\n",
              "      <td>September 9, 2021</td>\n",
              "      <td>false</td>\n",
              "      <td>1</td>\n",
              "    </tr>\n",
              "    <tr>\n",
              "      <th>5</th>\n",
              "      <td>Ciara O'Rourke</td>\n",
              "      <td>“Germany halts all Covid-19 vaccines, says the...</td>\n",
              "      <td>Bloggers</td>\n",
              "      <td>September 9, 2021</td>\n",
              "      <td>false</td>\n",
              "      <td>1</td>\n",
              "    </tr>\n",
              "    <tr>\n",
              "      <th>6</th>\n",
              "      <td>Ciara O'Rourke</td>\n",
              "      <td>Photo shows a Chinese restaurant sign that say...</td>\n",
              "      <td>Instagram posts</td>\n",
              "      <td>September 9, 2021</td>\n",
              "      <td>pants-fire</td>\n",
              "      <td>1</td>\n",
              "    </tr>\n",
              "    <tr>\n",
              "      <th>7</th>\n",
              "      <td>Ciara O'Rourke</td>\n",
              "      <td>“Military arrests Hunter Biden!”</td>\n",
              "      <td>Bloggers</td>\n",
              "      <td>September 8, 2021</td>\n",
              "      <td>pants-fire</td>\n",
              "      <td>1</td>\n",
              "    </tr>\n",
              "    <tr>\n",
              "      <th>8</th>\n",
              "      <td>Tom Kertscher</td>\n",
              "      <td>Says a demonstration with an air quality monit...</td>\n",
              "      <td>Facebook posts</td>\n",
              "      <td>September 8, 2021</td>\n",
              "      <td>false</td>\n",
              "      <td>1</td>\n",
              "    </tr>\n",
              "    <tr>\n",
              "      <th>9</th>\n",
              "      <td>Louis Jacobson</td>\n",
              "      <td>Texas “ranks 50th in baby wellness checks, ran...</td>\n",
              "      <td>Occupy Democrats</td>\n",
              "      <td>September 7, 2021</td>\n",
              "      <td>half-true</td>\n",
              "      <td>1</td>\n",
              "    </tr>\n",
              "    <tr>\n",
              "      <th>10</th>\n",
              "      <td>Louis Jacobson</td>\n",
              "      <td>“All” Americans in Afghanistan who “have wante...</td>\n",
              "      <td>Charles Schumer</td>\n",
              "      <td>September 7, 2021</td>\n",
              "      <td>false</td>\n",
              "      <td>1</td>\n",
              "    </tr>\n",
              "    <tr>\n",
              "      <th>11</th>\n",
              "      <td>Ciara O'Rourke</td>\n",
              "      <td>Video shows “Pfizer lab in Madrid on fire.”</td>\n",
              "      <td>Viral image</td>\n",
              "      <td>September 7, 2021</td>\n",
              "      <td>false</td>\n",
              "      <td>1</td>\n",
              "    </tr>\n",
              "    <tr>\n",
              "      <th>12</th>\n",
              "      <td>Madison Czopek</td>\n",
              "      <td>“Bill Gates calls for the withdrawal of all Co...</td>\n",
              "      <td>Bloggers</td>\n",
              "      <td>September 7, 2021</td>\n",
              "      <td>pants-fire</td>\n",
              "      <td>1</td>\n",
              "    </tr>\n",
              "    <tr>\n",
              "      <th>13</th>\n",
              "      <td>Andy Nguyen</td>\n",
              "      <td>The US government is trying to create food sho...</td>\n",
              "      <td>Viral image</td>\n",
              "      <td>September 7, 2021</td>\n",
              "      <td>false</td>\n",
              "      <td>1</td>\n",
              "    </tr>\n",
              "    <tr>\n",
              "      <th>14</th>\n",
              "      <td>Amy Sherman</td>\n",
              "      <td>Women are \"disproportionately impacted by vote...</td>\n",
              "      <td>Joe Biden</td>\n",
              "      <td>September 7, 2021</td>\n",
              "      <td>mostly-true</td>\n",
              "      <td>0</td>\n",
              "    </tr>\n",
              "    <tr>\n",
              "      <th>15</th>\n",
              "      <td>Warren Fiske</td>\n",
              "      <td>The Virginia Employment Commission is sixth in...</td>\n",
              "      <td>Ralph Northam</td>\n",
              "      <td>September 7, 2021</td>\n",
              "      <td>mostly-true</td>\n",
              "      <td>0</td>\n",
              "    </tr>\n",
              "    <tr>\n",
              "      <th>16</th>\n",
              "      <td>Brandon Mulder</td>\n",
              "      <td>“In the last several months, the Biden adminis...</td>\n",
              "      <td>Ted Cruz</td>\n",
              "      <td>September 3, 2021</td>\n",
              "      <td>false</td>\n",
              "      <td>1</td>\n",
              "    </tr>\n",
              "    <tr>\n",
              "      <th>17</th>\n",
              "      <td>D.L. Davis</td>\n",
              "      <td>End of eviction moratorium means “millions of ...</td>\n",
              "      <td>Mark Pocan</td>\n",
              "      <td>September 3, 2021</td>\n",
              "      <td>true</td>\n",
              "      <td>0</td>\n",
              "    </tr>\n",
              "    <tr>\n",
              "      <th>18</th>\n",
              "      <td>Miriam Valverde</td>\n",
              "      <td>“The average hospital stay for a case of COVID...</td>\n",
              "      <td>Pramila Jayapal</td>\n",
              "      <td>September 2, 2021</td>\n",
              "      <td>mostly-true</td>\n",
              "      <td>0</td>\n",
              "    </tr>\n",
              "    <tr>\n",
              "      <th>19</th>\n",
              "      <td>Jon Greenberg</td>\n",
              "      <td>“If these (telecom and internet) companies com...</td>\n",
              "      <td>Kevin McCarthy</td>\n",
              "      <td>September 2, 2021</td>\n",
              "      <td>false</td>\n",
              "      <td>1</td>\n",
              "    </tr>\n",
              "  </tbody>\n",
              "</table>\n",
              "</div>"
            ],
            "text/plain": [
              "               author  ... BinaryNumTarget\n",
              "0         Andy Nguyen  ...               1\n",
              "1   Gabrielle Settles  ...               1\n",
              "2       Jon Greenberg  ...               1\n",
              "3       Tom Kertscher  ...               1\n",
              "4         Amy Sherman  ...               1\n",
              "5      Ciara O'Rourke  ...               1\n",
              "6      Ciara O'Rourke  ...               1\n",
              "7      Ciara O'Rourke  ...               1\n",
              "8       Tom Kertscher  ...               1\n",
              "9      Louis Jacobson  ...               1\n",
              "10     Louis Jacobson  ...               1\n",
              "11     Ciara O'Rourke  ...               1\n",
              "12     Madison Czopek  ...               1\n",
              "13        Andy Nguyen  ...               1\n",
              "14        Amy Sherman  ...               0\n",
              "15       Warren Fiske  ...               0\n",
              "16     Brandon Mulder  ...               1\n",
              "17         D.L. Davis  ...               0\n",
              "18    Miriam Valverde  ...               0\n",
              "19      Jon Greenberg  ...               1\n",
              "\n",
              "[20 rows x 6 columns]"
            ]
          },
          "metadata": {},
          "execution_count": 27
        }
      ]
    },
    {
      "cell_type": "code",
      "metadata": {
        "id": "oWg9hpgy7tF9"
      },
      "source": [
        "data.to_csv('fact_checker.csv')"
      ],
      "execution_count": 29,
      "outputs": []
    }
  ]
}